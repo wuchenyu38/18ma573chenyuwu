{
  "nbformat": 4,
  "nbformat_minor": 0,
  "metadata": {
    "colab": {
      "name": "Fourier Transform Heston BSM.ipynb",
      "provenance": [],
      "collapsed_sections": [],
      "authorship_tag": "ABX9TyO3aylp3mD/tXcxjXmdcI/J",
      "include_colab_link": true
    },
    "kernelspec": {
      "name": "python3",
      "display_name": "Python 3"
    }
  },
  "cells": [
    {
      "cell_type": "markdown",
      "metadata": {
        "id": "view-in-github",
        "colab_type": "text"
      },
      "source": [
        "<a href=\"https://colab.research.google.com/github/wuchenyu38/18ma573chenyuwu/blob/master/src/Fourier_Transform_Heston_BSM.ipynb\" target=\"_parent\"><img src=\"https://colab.research.google.com/assets/colab-badge.svg\" alt=\"Open In Colab\"/></a>"
      ]
    },
    {
      "cell_type": "markdown",
      "metadata": {
        "id": "PXHqcaIOMfmE",
        "colab_type": "text"
      },
      "source": [
        "BSM Model\n",
        "\n"
      ]
    },
    {
      "cell_type": "code",
      "metadata": {
        "id": "TIrDDvOYsTU0",
        "colab_type": "code",
        "colab": {
          "base_uri": "https://localhost:8080/",
          "height": 136
        },
        "outputId": "2361f2dc-415b-4544-fd94-0c83adc21c1a"
      },
      "source": [
        "!git clone https://github.com/cantaro86/Financial-Models-Numerical-Methods.git"
      ],
      "execution_count": 26,
      "outputs": [
        {
          "output_type": "stream",
          "text": [
            "Cloning into 'Financial-Models-Numerical-Methods'...\n",
            "remote: Enumerating objects: 325, done.\u001b[K\n",
            "remote: Counting objects: 100% (325/325), done.\u001b[K\n",
            "remote: Compressing objects: 100% (214/214), done.\u001b[K\n",
            "remote: Total 325 (delta 189), reused 242 (delta 109), pack-reused 0\u001b[K\n",
            "Receiving objects: 100% (325/325), 10.81 MiB | 7.25 MiB/s, done.\n",
            "Resolving deltas: 100% (189/189), done.\n"
          ],
          "name": "stdout"
        }
      ]
    },
    {
      "cell_type": "code",
      "metadata": {
        "id": "-9WQ4045Mxat",
        "colab_type": "code",
        "colab": {}
      },
      "source": [
        "import scipy.integrate as int\n",
        "import numpy as np\n",
        "import scipy as scp\n",
        "import scipy.stats as ss\n",
        "import matplotlib.pyplot as plt\n",
        "import scipy.special as scps\n",
        "from statsmodels.graphics.gofplots import qqplot\n",
        "from scipy.linalg import cholesky\n",
        "from functools import partial"
      ],
      "execution_count": 27,
      "outputs": []
    },
    {
      "cell_type": "code",
      "metadata": {
        "id": "QZPnKinnMuxu",
        "colab_type": "code",
        "colab": {}
      },
      "source": [
        "s0=100; r= .0475; sigma=  .2; otype = 1; K = 110; T = 1;"
      ],
      "execution_count": 56,
      "outputs": []
    },
    {
      "cell_type": "code",
      "metadata": {
        "id": "BWHz50DqMnUQ",
        "colab_type": "code",
        "colab": {}
      },
      "source": [
        "#Calculate I_1\n",
        "d1=(np.log(s0/K)+(r+(sigma**2)/2)*T)/(sigma*np.sqrt(T))\n",
        "I1=(1/2)+(1/np.pi)*int.quad(lambda t: (np.sin(d1*t)/t)*np.exp((-1)*t**2/2),0,np.inf)[0]"
      ],
      "execution_count": 29,
      "outputs": []
    },
    {
      "cell_type": "code",
      "metadata": {
        "id": "wmE2vUHjMq8S",
        "colab_type": "code",
        "colab": {}
      },
      "source": [
        "#Calculate I_2\n",
        "d2=(np.log(s0/K)+(r-(sigma**2)/2)*T)/(sigma*np.sqrt(T))\n",
        "I2=(1/2)+(1/np.pi)*int.quad(lambda t: (np.sin(d2*t)/t)*np.exp((-1)*t**2/2),0,np.inf)[0]"
      ],
      "execution_count": 30,
      "outputs": []
    },
    {
      "cell_type": "code",
      "metadata": {
        "id": "nMNXKmwHMtFy",
        "colab_type": "code",
        "colab": {
          "base_uri": "https://localhost:8080/",
          "height": 34
        },
        "outputId": "cfc546a3-6fe9-468b-e88e-d5271860e1b2"
      },
      "source": [
        "#Get Price\n",
        "C=(s0*I1)-K*np.exp(-r*T)*I2\n",
        "print('Price =', C)"
      ],
      "execution_count": 31,
      "outputs": [
        {
          "output_type": "stream",
          "text": [
            "Price = 5.943273183452845\n"
          ],
          "name": "stdout"
        }
      ]
    },
    {
      "cell_type": "markdown",
      "metadata": {
        "id": "geyj_byYAS2z",
        "colab_type": "text"
      },
      "source": [
        "$$\n",
        "C_T(k) = \\frac{exp(-\\alpha k)}{\\pi}\\sum^{N}_{j=1}e^{-iv_jk}\\psi_T(v_j)\\eta\n",
        "$$"
      ]
    },
    {
      "cell_type": "markdown",
      "metadata": {
        "id": "BFHiNV7eB0NQ",
        "colab_type": "text"
      },
      "source": [
        "$$\n",
        "C_T(k_u) = \\frac{exp(-\\alpha k)}{\\pi}\\sum^{N}_{j=1}e^{-i\\lambda\\eta(j-1)(u-1)}e^{ibv_j}\\psi_T(v_j)\\eta\n",
        "$$"
      ]
    },
    {
      "cell_type": "markdown",
      "metadata": {
        "id": "3F1PZVisCF0c",
        "colab_type": "text"
      },
      "source": [
        "k = ln(K) </br>\n",
        "$\n",
        "\\lambda\\eta = \\frac{2\\pi}{N}\n",
        "$</br>\n",
        "$b = \\frac{1}{2}N\\lambda$</br>\n"
      ]
    },
    {
      "cell_type": "code",
      "metadata": {
        "id": "3PV5kLwp_KBE",
        "colab_type": "code",
        "colab": {}
      },
      "source": [
        "def BSM_characteristic_function(v, x0, T, r, sigma):\n",
        "    cf_value = np.exp(((x0 / T + r - 0.5 * sigma ** 2) * 1j * v\n",
        "                - 0.5 * sigma ** 2 * v ** 2) * T)\n",
        "    return cf_value\n",
        "def BSM_call_characteristic_function(v,alpha, x0, T, r, sigma):\n",
        "    res=np.exp(-r*T)/((alpha+1j*v)*(alpha+1j*v+1))\\\n",
        "        *BSM_characteristic_function((v-(alpha+1)*1j), x0, T, r, sigma)\n",
        "    return res\n",
        "    \n",
        "def SimpsonW(N,eta):\n",
        "    delt = np.zeros(N, dtype=np.float)\n",
        "    delt[0] = 1\n",
        "    j = np.arange(1, N + 1, 1)\n",
        "    SimpsonW = eta*(3 + (-1) ** j - delt) / 3\n",
        "    return SimpsonW"
      ],
      "execution_count": 87,
      "outputs": []
    },
    {
      "cell_type": "code",
      "metadata": {
        "id": "64GX4OEwGvD9",
        "colab_type": "code",
        "colab": {}
      },
      "source": [
        "def BSM_call_value_FFT(S0, K, T, r, sigma):\n",
        "    k = np.log(K)\n",
        "    x0 = np.log(S0)\n",
        "    N =2**10\n",
        "    alpha=1.5\n",
        "    \n",
        "    eta=0.15\n",
        "    lambda_ = 2 * np.pi / (N *eta)\n",
        "    beta=x0-lambda_*N/2\n",
        "    km=np.asarray([beta+i*lambda_ for i in range(N)])\n",
        "    W=SimpsonW(N,eta)\n",
        "    v=np.asarray([i*eta for i in range(N)])\n",
        "    Psi=np.asarray([BSM_call_characteristic_function(vj,alpha, x0, T, r, sigma)  for vj in v])\n",
        "    FFTFunc=Psi*np.exp(-1j*beta*v)*eta\n",
        "    y=np.fft.fft(FFTFunc).real\n",
        "    cT=np.exp(-alpha*km)*y/np.pi\n",
        "    \n",
        "    return np.exp(km),cT"
      ],
      "execution_count": 92,
      "outputs": []
    },
    {
      "cell_type": "code",
      "metadata": {
        "id": "R43HEDkPG1YH",
        "colab_type": "code",
        "colab": {
          "base_uri": "https://localhost:8080/",
          "height": 34
        },
        "outputId": "a65a848c-5b35-4e56-b11b-f8ba26ffe756"
      },
      "source": [
        "k,c=BSM_call_value_FFT(S0, K, T, r, sigma)\n",
        "print(np.interp(K, k, c))"
      ],
      "execution_count": 93,
      "outputs": [
        {
          "output_type": "stream",
          "text": [
            "6.618725304181327\n"
          ],
          "name": "stdout"
        }
      ]
    },
    {
      "cell_type": "markdown",
      "metadata": {
        "id": "z2jp8qWTK8pd",
        "colab_type": "text"
      },
      "source": [
        "Heston Model"
      ]
    },
    {
      "cell_type": "code",
      "metadata": {
        "id": "3hyvvzeRshnL",
        "colab_type": "code",
        "colab": {}
      },
      "source": [
        "import os"
      ],
      "execution_count": 32,
      "outputs": []
    },
    {
      "cell_type": "code",
      "metadata": {
        "id": "qj1fLyPbsiyi",
        "colab_type": "code",
        "colab": {
          "base_uri": "https://localhost:8080/",
          "height": 34
        },
        "outputId": "5d688636-a7f9-4224-d105-43cb4bc9d21a"
      },
      "source": [
        "cd Financial-Models-Numerical-Methods"
      ],
      "execution_count": 33,
      "outputs": [
        {
          "output_type": "stream",
          "text": [
            "/content/Financial-Models-Numerical-Methods/Financial-Models-Numerical-Methods\n"
          ],
          "name": "stdout"
        }
      ]
    },
    {
      "cell_type": "code",
      "metadata": {
        "id": "e-pn8rFLspwO",
        "colab_type": "code",
        "colab": {}
      },
      "source": [
        "from functions.probabilities import Heston_pdf, Q1, Q2\n",
        "from functions.cython.cython_Heston import Heston_paths_log, Heston_paths"
      ],
      "execution_count": 34,
      "outputs": []
    },
    {
      "cell_type": "code",
      "metadata": {
        "id": "ZY33TaHCYHMg",
        "colab_type": "code",
        "colab": {}
      },
      "source": [
        "r = 0                                           # drift\n",
        "rho = -0.5751                                   # correlation coefficient\n",
        "kappa = 1.5768                                  # mean reversion coefficient\n",
        "theta = 0.0398                                  # long-term mean of the variance\n",
        "sigma = 0.5751                                  # (Vol of Vol) - Volatility of instantaneous variance\n",
        "T = 10                                          # Terminal time\n",
        "K = 80                                          # Stike  \n",
        "v0 = 0.0175                                     # spot variance\n",
        "S0 = 100                                        # spot stock price \n",
        "k = np.log(K/S0)                                # log moneyness"
      ],
      "execution_count": 35,
      "outputs": []
    },
    {
      "cell_type": "code",
      "metadata": {
        "id": "fkUUU5tbsAL-",
        "colab_type": "code",
        "colab": {}
      },
      "source": [
        "def cf_Heston(u, t, v0, mu, kappa, theta, sigma, rho):\n",
        "    \"\"\"\n",
        "    Heston characteristic function as proposed in the original paper of Heston (1993)\n",
        "    \"\"\"\n",
        "    xi = kappa - sigma*rho*u*1j\n",
        "    d = np.sqrt( xi**2 + sigma**2 * (u**2 + 1j*u) )\n",
        "    g1 = (xi+d)/(xi-d)\n",
        "    cf = np.exp( 1j*u*mu*t + (kappa*theta)/(sigma**2) * ( (xi+d)*t - 2*np.log( (1-g1*np.exp(d*t))/(1-g1) ))\\\n",
        "              + (v0/sigma**2)*(xi+d) * (1-np.exp(d*t))/(1-g1*np.exp(d*t)) )\n",
        "    return cf"
      ],
      "execution_count": 36,
      "outputs": []
    },
    {
      "cell_type": "code",
      "metadata": {
        "id": "C-NbOmLxaSxl",
        "colab_type": "code",
        "colab": {}
      },
      "source": [
        "def cf_Heston_good(u, t, v0, mu, kappa, theta, sigma, rho):\n",
        "    \"\"\"\n",
        "    Heston characteristic function as proposed by Schoutens (2004)\n",
        "    \"\"\"\n",
        "    xi = kappa - sigma*rho*u*1j\n",
        "    d = np.sqrt( xi**2 + sigma**2 * (u**2 + 1j*u) )\n",
        "    g1 = (xi+d)/(xi-d)\n",
        "    g2 = 1/g1\n",
        "    cf = np.exp( 1j*u*mu*t + (kappa*theta)/(sigma**2) * ( (xi-d)*t - 2*np.log( (1-g2*np.exp(-d*t))/(1-g2) ))\\\n",
        "              + (v0/sigma**2)*(xi-d) * (1-np.exp(-d*t))/(1-g2*np.exp(-d*t)) )\n",
        "    return cf"
      ],
      "execution_count": 37,
      "outputs": []
    },
    {
      "cell_type": "code",
      "metadata": {
        "id": "1V6iYUi7aUz4",
        "colab_type": "code",
        "colab": {}
      },
      "source": [
        "cf_H_b = partial(cf_Heston, t=T, v0=v0, mu=r, theta=theta, sigma=sigma, kappa=kappa, rho=rho) \n",
        "cf_H_b_good = partial(cf_Heston_good, t=T, v0=v0, mu=r, theta=theta, sigma=sigma, kappa=kappa, rho=rho )"
      ],
      "execution_count": 38,
      "outputs": []
    },
    {
      "cell_type": "code",
      "metadata": {
        "id": "xEXe2I_Aaciw",
        "colab_type": "code",
        "colab": {
          "base_uri": "https://localhost:8080/",
          "height": 336
        },
        "outputId": "0ff67b5b-0ce6-4a4b-fc02-d471313acad2"
      },
      "source": [
        "u = np.linspace(-4,4, 100)\n",
        "\n",
        "plt.figure(figsize=(12,5))\n",
        "plt.plot(u, np.real(cf_H_b(u)), label=\"Heston CF\" )\n",
        "plt.plot(u, np.real(cf_H_b_good(u)), label=\"Schoutens CF\" )\n",
        "plt.title(\"Comparison of stable and instable Heston characteristic functions\")\n",
        "plt.legend(); plt.show()"
      ],
      "execution_count": 39,
      "outputs": [
        {
          "output_type": "display_data",
          "data": {
            "image/png": "[encoded data removed]",
            "text/plain": [
              "<Figure size 864x360 with 1 Axes>"
            ]
          },
          "metadata": {
            "tags": [],
            "needs_background": "light"
          }
        }
      ]
    },
    {
      "cell_type": "code",
      "metadata": {
        "id": "YUOFEbfnagxO",
        "colab_type": "code",
        "colab": {
          "base_uri": "https://localhost:8080/",
          "height": 85
        },
        "outputId": "e66e5b39-515e-41b5-be52-9adab5b891f6"
      },
      "source": [
        "%%time\n",
        "limit_max = 1000      # right limit in the integration                \n",
        "call = S0 * Q1(k, cf_H_b_good, limit_max) - K * np.exp(-r*T) * Q2(k, cf_H_b_good, limit_max)\n",
        "print(\"Heston Fourier inversion call price: \", call)\n",
        "print(\"-----------------------------------\")"
      ],
      "execution_count": 40,
      "outputs": [
        {
          "output_type": "stream",
          "text": [
            "Heston Fourier inversion call price:  32.579577859908646\n",
            "-----------------------------------\n",
            "CPU times: user 29.7 ms, sys: 41 µs, total: 29.8 ms\n",
            "Wall time: 31.7 ms\n"
          ],
          "name": "stdout"
        }
      ]
    },
    {
      "cell_type": "code",
      "metadata": {
        "id": "HuEJ60t9aoS6",
        "colab_type": "code",
        "colab": {}
      },
      "source": [
        ""
      ],
      "execution_count": 40,
      "outputs": []
    }
  ]
}